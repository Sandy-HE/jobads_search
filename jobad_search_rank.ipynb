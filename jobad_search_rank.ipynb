{
  "nbformat": 4,
  "nbformat_minor": 0,
  "metadata": {
    "colab": {
      "provenance": []
    },
    "kernelspec": {
      "name": "python3",
      "display_name": "Python 3"
    },
    "language_info": {
      "name": "python"
    }
  },
  "cells": [
    {
      "cell_type": "code",
      "execution_count": null,
      "metadata": {
        "colab": {
          "base_uri": "https://localhost:8080/"
        },
        "id": "2aQPfp_2l_CV",
        "outputId": "58877453-3285-4450-ed69-b115ab63f460"
      },
      "outputs": [
        {
          "output_type": "stream",
          "name": "stdout",
          "text": [
            "Drive already mounted at /content/drive; to attempt to forcibly remount, call drive.mount(\"/content/drive\", force_remount=True).\n"
          ]
        }
      ],
      "source": [
        "from google.colab import drive\n",
        "drive.mount('/content/drive')"
      ]
    },
    {
      "cell_type": "code",
      "source": [
        "!ls \"/content/drive/My Drive/jobad\""
      ],
      "metadata": {
        "colab": {
          "base_uri": "https://localhost:8080/"
        },
        "id": "G8EVj8FzoBTQ",
        "outputId": "b68596ea-e194-4ec1-b39a-f0f5e2046eed"
      },
      "execution_count": null,
      "outputs": [
        {
          "output_type": "stream",
          "name": "stdout",
          "text": [
            " ad_detail_v1.json\t\t\t      'qry_rel_machine learning.json'\n",
            " d2v_epoch100_vecsize15_field-abstract.model   qry_rel_v1a.json\n",
            "'Job ads Design Document.gdoc'\n"
          ]
        }
      ]
    },
    {
      "cell_type": "markdown",
      "source": [
        "# Set Up Learning Model"
      ],
      "metadata": {
        "id": "t4bFafaegrMa"
      }
    },
    {
      "cell_type": "code",
      "source": [
        "# Get job ad data\n",
        "\n",
        "import pandas as pd\n",
        "df = pd.read_json('/content/drive/MyDrive/jobad/ad_detail_v1.json', lines=True)\n",
        "df.head(5)"
      ],
      "metadata": {
        "colab": {
          "base_uri": "https://localhost:8080/",
          "height": 337
        },
        "id": "xJ8waIO5ofOa",
        "outputId": "86b4e736-fb62-41d3-8323-97d1822a255b"
      },
      "execution_count": null,
      "outputs": [
        {
          "output_type": "execute_result",
          "data": {
            "text/plain": [
              "                                               title  \\\n",
              "0                              Senior Developer | SA   \n",
              "1               Technology Manager | Travel Industry   \n",
              "2                           Level 2 Support Engineer   \n",
              "3           Senior JavaScript / Full-Stack Developer   \n",
              "4  CONTRACT Senior Front End Web Developer (Angul...   \n",
              "\n",
              "                                            abstract  \\\n",
              "0  Readifarians are known for discovering the lat...   \n",
              "1  Rare opportunity for an experienced Technology...   \n",
              "2  Seeking an experienced Level 2 Windows Support...   \n",
              "3  Our client, HazardCo, is seeking a JavaScript ...   \n",
              "4  6 month rolling CONTRACT? Senior Web Developer...   \n",
              "\n",
              "                                             content  \\\n",
              "0  <p>Readify helps organizations innovate with t...   \n",
              "1  This is a key role within a market leading Tra...   \n",
              "2  <p><strong>Summary</strong><br>ITtelligent is ...   \n",
              "3  <p>Kia Ora, New Zealand needs you!</p><p>We ar...   \n",
              "4  <p>Our innovative client is looking for a CONT...   \n",
              "\n",
              "                                            metadata     ad_id  \n",
              "0  {'location': 'Adelaide', 'workType': 'Full Tim...  38946054  \n",
              "1  {'additionalSalaryText': '$110k - $120k p.a. +...  38856271  \n",
              "2  {'additionalSalaryText': '$55,000 - $69,999', ...  38901017  \n",
              "3  {'additionalSalaryText': '$90,000 - $130,000',...  38846084  \n",
              "4  {'additionalSalaryText': '$80-$100 per hour 6 ...  38977270  "
            ],
            "text/html": [
              "\n",
              "  <div id=\"df-433ceb24-7f89-4def-a209-d62d6eb743ea\">\n",
              "    <div class=\"colab-df-container\">\n",
              "      <div>\n",
              "<style scoped>\n",
              "    .dataframe tbody tr th:only-of-type {\n",
              "        vertical-align: middle;\n",
              "    }\n",
              "\n",
              "    .dataframe tbody tr th {\n",
              "        vertical-align: top;\n",
              "    }\n",
              "\n",
              "    .dataframe thead th {\n",
              "        text-align: right;\n",
              "    }\n",
              "</style>\n",
              "<table border=\"1\" class=\"dataframe\">\n",
              "  <thead>\n",
              "    <tr style=\"text-align: right;\">\n",
              "      <th></th>\n",
              "      <th>title</th>\n",
              "      <th>abstract</th>\n",
              "      <th>content</th>\n",
              "      <th>metadata</th>\n",
              "      <th>ad_id</th>\n",
              "    </tr>\n",
              "  </thead>\n",
              "  <tbody>\n",
              "    <tr>\n",
              "      <th>0</th>\n",
              "      <td>Senior Developer | SA</td>\n",
              "      <td>Readifarians are known for discovering the lat...</td>\n",
              "      <td>&lt;p&gt;Readify helps organizations innovate with t...</td>\n",
              "      <td>{'location': 'Adelaide', 'workType': 'Full Tim...</td>\n",
              "      <td>38946054</td>\n",
              "    </tr>\n",
              "    <tr>\n",
              "      <th>1</th>\n",
              "      <td>Technology Manager | Travel Industry</td>\n",
              "      <td>Rare opportunity for an experienced Technology...</td>\n",
              "      <td>This is a key role within a market leading Tra...</td>\n",
              "      <td>{'additionalSalaryText': '$110k - $120k p.a. +...</td>\n",
              "      <td>38856271</td>\n",
              "    </tr>\n",
              "    <tr>\n",
              "      <th>2</th>\n",
              "      <td>Level 2 Support Engineer</td>\n",
              "      <td>Seeking an experienced Level 2 Windows Support...</td>\n",
              "      <td>&lt;p&gt;&lt;strong&gt;Summary&lt;/strong&gt;&lt;br&gt;ITtelligent is ...</td>\n",
              "      <td>{'additionalSalaryText': '$55,000 - $69,999', ...</td>\n",
              "      <td>38901017</td>\n",
              "    </tr>\n",
              "    <tr>\n",
              "      <th>3</th>\n",
              "      <td>Senior JavaScript / Full-Stack Developer</td>\n",
              "      <td>Our client, HazardCo, is seeking a JavaScript ...</td>\n",
              "      <td>&lt;p&gt;Kia Ora, New Zealand needs you!&lt;/p&gt;&lt;p&gt;We ar...</td>\n",
              "      <td>{'additionalSalaryText': '$90,000 - $130,000',...</td>\n",
              "      <td>38846084</td>\n",
              "    </tr>\n",
              "    <tr>\n",
              "      <th>4</th>\n",
              "      <td>CONTRACT Senior Front End Web Developer (Angul...</td>\n",
              "      <td>6 month rolling CONTRACT? Senior Web Developer...</td>\n",
              "      <td>&lt;p&gt;Our innovative client is looking for a CONT...</td>\n",
              "      <td>{'additionalSalaryText': '$80-$100 per hour 6 ...</td>\n",
              "      <td>38977270</td>\n",
              "    </tr>\n",
              "  </tbody>\n",
              "</table>\n",
              "</div>\n",
              "      <button class=\"colab-df-convert\" onclick=\"convertToInteractive('df-433ceb24-7f89-4def-a209-d62d6eb743ea')\"\n",
              "              title=\"Convert this dataframe to an interactive table.\"\n",
              "              style=\"display:none;\">\n",
              "        \n",
              "  <svg xmlns=\"http://www.w3.org/2000/svg\" height=\"24px\"viewBox=\"0 0 24 24\"\n",
              "       width=\"24px\">\n",
              "    <path d=\"M0 0h24v24H0V0z\" fill=\"none\"/>\n",
              "    <path d=\"M18.56 5.44l.94 2.06.94-2.06 2.06-.94-2.06-.94-.94-2.06-.94 2.06-2.06.94zm-11 1L8.5 8.5l.94-2.06 2.06-.94-2.06-.94L8.5 2.5l-.94 2.06-2.06.94zm10 10l.94 2.06.94-2.06 2.06-.94-2.06-.94-.94-2.06-.94 2.06-2.06.94z\"/><path d=\"M17.41 7.96l-1.37-1.37c-.4-.4-.92-.59-1.43-.59-.52 0-1.04.2-1.43.59L10.3 9.45l-7.72 7.72c-.78.78-.78 2.05 0 2.83L4 21.41c.39.39.9.59 1.41.59.51 0 1.02-.2 1.41-.59l7.78-7.78 2.81-2.81c.8-.78.8-2.07 0-2.86zM5.41 20L4 18.59l7.72-7.72 1.47 1.35L5.41 20z\"/>\n",
              "  </svg>\n",
              "      </button>\n",
              "      \n",
              "  <style>\n",
              "    .colab-df-container {\n",
              "      display:flex;\n",
              "      flex-wrap:wrap;\n",
              "      gap: 12px;\n",
              "    }\n",
              "\n",
              "    .colab-df-convert {\n",
              "      background-color: #E8F0FE;\n",
              "      border: none;\n",
              "      border-radius: 50%;\n",
              "      cursor: pointer;\n",
              "      display: none;\n",
              "      fill: #1967D2;\n",
              "      height: 32px;\n",
              "      padding: 0 0 0 0;\n",
              "      width: 32px;\n",
              "    }\n",
              "\n",
              "    .colab-df-convert:hover {\n",
              "      background-color: #E2EBFA;\n",
              "      box-shadow: 0px 1px 2px rgba(60, 64, 67, 0.3), 0px 1px 3px 1px rgba(60, 64, 67, 0.15);\n",
              "      fill: #174EA6;\n",
              "    }\n",
              "\n",
              "    [theme=dark] .colab-df-convert {\n",
              "      background-color: #3B4455;\n",
              "      fill: #D2E3FC;\n",
              "    }\n",
              "\n",
              "    [theme=dark] .colab-df-convert:hover {\n",
              "      background-color: #434B5C;\n",
              "      box-shadow: 0px 1px 3px 1px rgba(0, 0, 0, 0.15);\n",
              "      filter: drop-shadow(0px 1px 2px rgba(0, 0, 0, 0.3));\n",
              "      fill: #FFFFFF;\n",
              "    }\n",
              "  </style>\n",
              "\n",
              "      <script>\n",
              "        const buttonEl =\n",
              "          document.querySelector('#df-433ceb24-7f89-4def-a209-d62d6eb743ea button.colab-df-convert');\n",
              "        buttonEl.style.display =\n",
              "          google.colab.kernel.accessAllowed ? 'block' : 'none';\n",
              "\n",
              "        async function convertToInteractive(key) {\n",
              "          const element = document.querySelector('#df-433ceb24-7f89-4def-a209-d62d6eb743ea');\n",
              "          const dataTable =\n",
              "            await google.colab.kernel.invokeFunction('convertToInteractive',\n",
              "                                                     [key], {});\n",
              "          if (!dataTable) return;\n",
              "\n",
              "          const docLinkHtml = 'Like what you see? Visit the ' +\n",
              "            '<a target=\"_blank\" href=https://colab.research.google.com/notebooks/data_table.ipynb>data table notebook</a>'\n",
              "            + ' to learn more about interactive tables.';\n",
              "          element.innerHTML = '';\n",
              "          dataTable['output_type'] = 'display_data';\n",
              "          await google.colab.output.renderOutput(dataTable, element);\n",
              "          const docLink = document.createElement('div');\n",
              "          docLink.innerHTML = docLinkHtml;\n",
              "          element.appendChild(docLink);\n",
              "        }\n",
              "      </script>\n",
              "    </div>\n",
              "  </div>\n",
              "  "
            ]
          },
          "metadata": {},
          "execution_count": 2
        }
      ]
    },
    {
      "cell_type": "code",
      "source": [
        "# Function: remove html tags from the description\n",
        "import re\n",
        "\n",
        "def remove_html_tags(text):    \n",
        "    patn = re.compile('<.*?>')\n",
        "    return re.sub(patn, '', text)"
      ],
      "metadata": {
        "id": "jiWMkB-u5BW5"
      },
      "execution_count": null,
      "outputs": []
    },
    {
      "cell_type": "code",
      "source": [
        "# Extract specified field as model input\n",
        "\n",
        "field='content'\n",
        "#abstract_list = df[\"abstract\"].tolist()\n",
        "field_list = list(map(remove_html_tags, df[field]))\n",
        "field_list[0]"
      ],
      "metadata": {
        "id": "1x0iSNrYs32m",
        "colab": {
          "base_uri": "https://localhost:8080/",
          "height": 161
        },
        "outputId": "c5e70e04-5e77-4f71-8bc4-6fc6ef30de20"
      },
      "execution_count": null,
      "outputs": [
        {
          "output_type": "execute_result",
          "data": {
            "text/plain": [
              "\"Readify helps organizations innovate with technology by providing high value software and digital services. Since 2001, Readify has a strong record of helping customers in a range of industries to develop and support innovative software projects. We use agile principles and practices to form autonomous, collaborative and cross-functional teams with our customers. Readify embraces open source software, both as consumers and producers, and offer a generous paid professional development scheme.The RoleAs a Senior Software Developer you'll provide our clients with an extremely high level of technical expertise and represent Readify as a technical expert in the wider community. You'll have the chance to make an impact in the development of complex, disruptive solutions for a wide range of organizations.You will be able to apply your passion for technology and problem solving, using the latest, cutting edge technologies whilst working alongside and learning from talented, knowledgeable and experienced software development consultants.You will have the opportunity to shape the way that companies deliver software and to work with people who believe in routinely shipping quality software to production. You will need the humility to listen to customers and learn from your peers.This is a great role for someone who is self-motivated and loves seeing clients excited about solutions to their business problems. As a consulting organization, there may be the opportunity to travel interstate and collaborate with your interstate colleagues.The Responsibilities* Design, develop, test and deliver custom software solutions* Directly collaborate with clients on a daily basis* Form part of an elite delivery team. They will support you and you will be expected to support them.Desired Skills and ExperienceMore than any other skill, we value a willingness to learn and a positive attitude. You'll need to be able to adapt to a wide range of technologies in this role, but we'll support you every step of the way. We expect strong communication skills, deep experience with both front-end and server-side development, and experience with agile software development. We don&rsquo;t require specific framework or language experience, however we expect candidates to have an interest in skilling up in the .Net stack if they haven&rsquo;t yet. We expect you&rsquo;ll have used some of the following technologies and frameworks to deliver complete solutions:  Javascript / Typescript React / Angular / Vue WebPack HTML5 and CSS3 (Bootstrap, Bulma, etc) Testing frameworks (Karma, Jasmine, Mocha, Jest etc) Continuous Integration (CI) / Continuous Delivery (CD) techniques Strong experience with a server side programming language (C#, Go, Java, Ruby, Python, Rust, Kotlin, F#, Node etc) Experience with Agile delivery methods For bonus points, you may also have hands-on experience with the following:  Apache Cordova / React Native / Xamarin DevOps and Cloud services using AWS / Azure (ARM, CloudFormation) Experience consulting Benefits  Work with some of the best, most well-known minds in software development Less time in meetings, more time shipping 20 days / year of Paid Professional Development Profit Share Scheme Mobile, internet and software allowance $4,200 toolkit allowance renewed every 2 years Purchased annual leave scheme \""
            ],
            "application/vnd.google.colaboratory.intrinsic+json": {
              "type": "string"
            }
          },
          "metadata": {},
          "execution_count": 4
        }
      ]
    },
    {
      "cell_type": "code",
      "source": [
        "from gensim.models.doc2vec import Doc2Vec, TaggedDocument\n",
        "from nltk.tokenize import word_tokenize\n",
        "import nltk\n",
        "nltk.download('punkt')"
      ],
      "metadata": {
        "colab": {
          "base_uri": "https://localhost:8080/"
        },
        "id": "G_hsEbSLUT2Y",
        "outputId": "cf642fe2-01da-4fd4-8923-fcc5a6dd6e1c"
      },
      "execution_count": null,
      "outputs": [
        {
          "output_type": "stream",
          "name": "stderr",
          "text": [
            "[nltk_data] Downloading package punkt to /root/nltk_data...\n",
            "[nltk_data]   Package punkt is already up-to-date!\n"
          ]
        },
        {
          "output_type": "execute_result",
          "data": {
            "text/plain": [
              "True"
            ]
          },
          "metadata": {},
          "execution_count": 5
        }
      ]
    },
    {
      "cell_type": "code",
      "source": [
        "# Set up doc2vec model\n",
        "\n",
        "max_epochs = 100\n",
        "vec_size = 15\n",
        "alpha = 0.025\n",
        "\n",
        "tagged_data = [TaggedDocument(words=word_tokenize(_field.lower()), tags=[i]) for i, _field in enumerate(field_list)]\n",
        "model = Doc2Vec(size=vec_size,\n",
        "                alpha=alpha, \n",
        "                min_alpha=0.00025,\n",
        "                min_count=1,\n",
        "                dm =1)\n",
        "  \n",
        "model.build_vocab(tagged_data)"
      ],
      "metadata": {
        "colab": {
          "base_uri": "https://localhost:8080/"
        },
        "id": "GEdab6XzXoda",
        "outputId": "d52fff6d-a699-4ad3-cf54-70f66d9909d0"
      },
      "execution_count": null,
      "outputs": [
        {
          "output_type": "stream",
          "name": "stderr",
          "text": [
            "/usr/local/lib/python3.8/dist-packages/gensim/models/doc2vec.py:570: UserWarning: The parameter `size` is deprecated, will be removed in 4.0.0, use `vector_size` instead.\n",
            "  warnings.warn(\"The parameter `size` is deprecated, will be removed in 4.0.0, use `vector_size` instead.\")\n",
            "WARNING:gensim.models.base_any2vec:consider setting layer size to a multiple of 4 for greater performance\n"
          ]
        }
      ]
    },
    {
      "cell_type": "code",
      "source": [
        "# Train the model\n",
        "\n",
        "for epoch in range(max_epochs):\n",
        "    print('iteration {0}'.format(epoch))\n",
        "    model.train(tagged_data,\n",
        "                total_examples=model.corpus_count,\n",
        "                epochs=model.iter)\n",
        "    # decrease the learning rate\n",
        "    model.alpha -= 0.0002\n",
        "    # fix the learning rate, no decay\n",
        "    model.min_alpha = model.alpha"
      ],
      "metadata": {
        "colab": {
          "base_uri": "https://localhost:8080/"
        },
        "id": "M0KbiBi1Xq3h",
        "outputId": "832f07d6-47dc-49e0-87fb-f0176853736b"
      },
      "execution_count": null,
      "outputs": [
        {
          "output_type": "stream",
          "name": "stdout",
          "text": [
            "iteration 0\n"
          ]
        },
        {
          "output_type": "stream",
          "name": "stderr",
          "text": [
            "<ipython-input-9-2e5e6a58b1f8>:5: DeprecationWarning: Call to deprecated `iter` (Attribute will be removed in 4.0.0, use self.epochs instead).\n",
            "  epochs=model.iter)\n",
            "WARNING:gensim.models.base_any2vec:Effective 'alpha' higher than previous training cycles\n"
          ]
        },
        {
          "output_type": "stream",
          "name": "stdout",
          "text": [
            "iteration 1\n",
            "iteration 2\n",
            "iteration 3\n",
            "iteration 4\n",
            "iteration 5\n",
            "iteration 6\n",
            "iteration 7\n",
            "iteration 8\n",
            "iteration 9\n",
            "iteration 10\n",
            "iteration 11\n",
            "iteration 12\n",
            "iteration 13\n",
            "iteration 14\n",
            "iteration 15\n",
            "iteration 16\n",
            "iteration 17\n",
            "iteration 18\n",
            "iteration 19\n",
            "iteration 20\n",
            "iteration 21\n",
            "iteration 22\n",
            "iteration 23\n",
            "iteration 24\n",
            "iteration 25\n",
            "iteration 26\n",
            "iteration 27\n",
            "iteration 28\n",
            "iteration 29\n",
            "iteration 30\n",
            "iteration 31\n",
            "iteration 32\n",
            "iteration 33\n",
            "iteration 34\n",
            "iteration 35\n",
            "iteration 36\n",
            "iteration 37\n",
            "iteration 38\n",
            "iteration 39\n",
            "iteration 40\n",
            "iteration 41\n",
            "iteration 42\n",
            "iteration 43\n",
            "iteration 44\n",
            "iteration 45\n",
            "iteration 46\n",
            "iteration 47\n",
            "iteration 48\n",
            "iteration 49\n",
            "iteration 50\n",
            "iteration 51\n",
            "iteration 52\n",
            "iteration 53\n",
            "iteration 54\n",
            "iteration 55\n",
            "iteration 56\n",
            "iteration 57\n",
            "iteration 58\n",
            "iteration 59\n",
            "iteration 60\n",
            "iteration 61\n",
            "iteration 62\n",
            "iteration 63\n",
            "iteration 64\n",
            "iteration 65\n",
            "iteration 66\n",
            "iteration 67\n",
            "iteration 68\n",
            "iteration 69\n",
            "iteration 70\n",
            "iteration 71\n",
            "iteration 72\n",
            "iteration 73\n",
            "iteration 74\n",
            "iteration 75\n",
            "iteration 76\n",
            "iteration 77\n",
            "iteration 78\n",
            "iteration 79\n",
            "iteration 80\n",
            "iteration 81\n",
            "iteration 82\n",
            "iteration 83\n",
            "iteration 84\n",
            "iteration 85\n",
            "iteration 86\n",
            "iteration 87\n",
            "iteration 88\n",
            "iteration 89\n",
            "iteration 90\n",
            "iteration 91\n",
            "iteration 92\n",
            "iteration 93\n",
            "iteration 94\n",
            "iteration 95\n",
            "iteration 96\n",
            "iteration 97\n",
            "iteration 98\n",
            "iteration 99\n"
          ]
        }
      ]
    },
    {
      "cell_type": "code",
      "source": [
        "# Save the model\n",
        "\n",
        "f_name = \"/content/drive/MyDrive/jobad/d2v_epoch{}_vecsize{}_field-{}.model\".format(max_epochs, vec_size, field)\n",
        "model.save(f_name)\n",
        "print(\"Model Saved in {}\".format(f_name))"
      ],
      "metadata": {
        "colab": {
          "base_uri": "https://localhost:8080/"
        },
        "id": "mlsPDOntX8Ng",
        "outputId": "9b5a0de8-04cf-4b68-e629-cb575a4b36ff"
      },
      "execution_count": null,
      "outputs": [
        {
          "output_type": "stream",
          "name": "stdout",
          "text": [
            "Model Saved in /content/drive/MyDrive/jobad/d2v_epoch100_vecsize15_field-content.model\n"
          ]
        }
      ]
    },
    {
      "cell_type": "code",
      "source": [
        "# Load the saved model\n",
        "\n",
        "# from gensim.models.doc2vec import Doc2Vec\n",
        "\n",
        "f_name = \"/content/drive/MyDrive/jobad/d2v_epoch{}_vecsize{}_field-{}.model\".format(max_epochs, vec_size, field)\n",
        "model= Doc2Vec.load(f_name)\n",
        "\n"
      ],
      "metadata": {
        "id": "CRW-LP_AH-vI"
      },
      "execution_count": null,
      "outputs": []
    },
    {
      "cell_type": "markdown",
      "source": [
        "# Prepare Query Results"
      ],
      "metadata": {
        "id": "eyzJYEDggY0C"
      }
    },
    {
      "cell_type": "code",
      "source": [
        "# Input the query keywords\n",
        "\n",
        "query = input(\"Input your query keywords:\")"
      ],
      "metadata": {
        "colab": {
          "base_uri": "https://localhost:8080/"
        },
        "id": "tENxslGfJt2_",
        "outputId": "7887a21f-c5c2-4e2d-debb-7957fa8b72ca"
      },
      "execution_count": null,
      "outputs": [
        {
          "name": "stdout",
          "output_type": "stream",
          "text": [
            "Input your query keywords:IT support\n"
          ]
        }
      ]
    },
    {
      "cell_type": "code",
      "source": [
        "# Infer the vector of the query keywords\n",
        "\n",
        "test_data = word_tokenize(query.lower())\n",
        "query_vec = model.infer_vector(test_data)\n",
        "print(\"query_infer\", query_vec)"
      ],
      "metadata": {
        "colab": {
          "base_uri": "https://localhost:8080/"
        },
        "id": "rO-hFoPuITMl",
        "outputId": "e0a1ad41-233f-44de-cfa3-c248eba563b3"
      },
      "execution_count": null,
      "outputs": [
        {
          "output_type": "stream",
          "name": "stdout",
          "text": [
            "query_infer [-0.01841908 -0.03865655  0.00033624  0.04543457  0.0087572  -0.03442594\n",
            " -0.05522738 -0.02805052  0.02732532 -0.02994857  0.00319669 -0.03071992\n",
            " -0.05764436  0.01064734 -0.02035608]\n"
          ]
        }
      ]
    },
    {
      "cell_type": "code",
      "source": [
        "# Find most similar doc using tags\n",
        "\n",
        "# similar_doc = model.docvecs.most_similar(1)\n",
        "# print(similar_doc)\n",
        "\n",
        "\n",
        "### find vector of doc in training data using tags\n",
        "# print(model.docvecs[1])"
      ],
      "metadata": {
        "colab": {
          "base_uri": "https://localhost:8080/"
        },
        "id": "5-8BGa2TIz9k",
        "outputId": "9bb23c48-900f-4214-8eab-7146664a4323"
      },
      "execution_count": null,
      "outputs": [
        {
          "output_type": "stream",
          "name": "stdout",
          "text": [
            "[(2756, 0.8457973599433899), (4570, 0.8287819623947144), (2719, 0.8177149891853333), (4381, 0.8114129900932312), (4717, 0.8094561696052551), (3341, 0.7994657158851624), (3590, 0.7958623170852661), (4586, 0.7777628302574158), (1038, 0.7727929949760437), (1893, 0.7715567350387573)]\n",
            "[ 5.9261527   0.70213836 -8.15227     4.871992   -7.7033625   2.834238\n",
            "  1.3195573   2.6917422  -1.9054825   0.5035495  -0.37564647 -5.9801817\n",
            "  0.16827598 -3.5557318   5.0641294 ]\n"
          ]
        }
      ]
    },
    {
      "cell_type": "code",
      "source": [
        "# Show model vocabulary\n",
        "# model.wv.vocab"
      ],
      "metadata": {
        "id": "oTv6caiJomKG"
      },
      "execution_count": null,
      "outputs": []
    },
    {
      "cell_type": "code",
      "source": [
        "# Calculate the most similarities of job ads relevant to query keywords\n",
        "\n",
        "num_top_search = len(model.docvecs)\n",
        "\n",
        "sims=model.docvecs.most_similar([query_vec], topn=num_top_search)\n",
        "sims[:10]"
      ],
      "metadata": {
        "colab": {
          "base_uri": "https://localhost:8080/"
        },
        "id": "NQKFw-6NrNrf",
        "outputId": "501d7a70-8601-4166-f05b-c1f27d488a92"
      },
      "execution_count": null,
      "outputs": [
        {
          "output_type": "execute_result",
          "data": {
            "text/plain": [
              "[(4058, 0.8126524090766907),\n",
              " (1626, 0.7296479344367981),\n",
              " (3635, 0.7192395329475403),\n",
              " (3540, 0.7191036343574524),\n",
              " (4891, 0.7181917428970337),\n",
              " (1525, 0.7131257057189941),\n",
              " (4492, 0.7130693197250366),\n",
              " (1338, 0.7090390920639038),\n",
              " (3211, 0.708549439907074),\n",
              " (1611, 0.7081342935562134)]"
            ]
          },
          "metadata": {},
          "execution_count": 13
        }
      ]
    },
    {
      "cell_type": "code",
      "source": [
        "# Function: convert similarity to relevance\n",
        "\n",
        "def convert_to_relevance(num):\n",
        "    num = num*100\n",
        "    if num >= 90:\n",
        "      return int(4)\n",
        "    elif num>=80 and num < 90:\n",
        "      return int(3)\n",
        "    elif num>=70 and num <80:\n",
        "      return int(2)\n",
        "    elif num>=60 and num < 70:\n",
        "      return int(1)\n",
        "    else:\n",
        "      return int(0)"
      ],
      "metadata": {
        "id": "w0RyNJ3rAblM"
      },
      "execution_count": null,
      "outputs": []
    },
    {
      "cell_type": "code",
      "source": [
        "# List relevance\n",
        "relevance = list(map(convert_to_relevance, [sim for docid, sim in sims]))\n",
        "relevance[:10]"
      ],
      "metadata": {
        "colab": {
          "base_uri": "https://localhost:8080/"
        },
        "id": "-Dk20k-d_wUV",
        "outputId": "5e49d20f-5b62-4f76-f021-f8de625570a7"
      },
      "execution_count": null,
      "outputs": [
        {
          "output_type": "execute_result",
          "data": {
            "text/plain": [
              "[3, 2, 2, 2, 2, 2, 2, 2, 2, 2]"
            ]
          },
          "metadata": {},
          "execution_count": 15
        }
      ]
    },
    {
      "cell_type": "code",
      "source": [
        "# List rank\n",
        "rank = [docid for docid, sim in sims]\n",
        "rank[:10]"
      ],
      "metadata": {
        "colab": {
          "base_uri": "https://localhost:8080/"
        },
        "id": "6Z1hwwNFtSgz",
        "outputId": "8e5891e1-cd3c-4a1a-8f69-c05e65733345"
      },
      "execution_count": null,
      "outputs": [
        {
          "output_type": "execute_result",
          "data": {
            "text/plain": [
              "[4058, 1626, 3635, 3540, 4891, 1525, 4492, 1338, 3211, 1611]"
            ]
          },
          "metadata": {},
          "execution_count": 16
        }
      ]
    },
    {
      "cell_type": "code",
      "source": [
        "# List job ad id based on rank\n",
        "idx=rank\n",
        "ad_id_rank = list(map(str, df.iloc[idx][\"ad_id\"]))\n",
        "ad_id_rank[:10]"
      ],
      "metadata": {
        "colab": {
          "base_uri": "https://localhost:8080/"
        },
        "id": "rFykvZLQ9wV2",
        "outputId": "02e4d424-2bfd-4e22-9c9e-b3c0e4441676"
      },
      "execution_count": null,
      "outputs": [
        {
          "output_type": "execute_result",
          "data": {
            "text/plain": [
              "['38930962',\n",
              " '38855294',\n",
              " '38981356',\n",
              " '38854644',\n",
              " '38896974',\n",
              " '38910436',\n",
              " '38973549',\n",
              " '38996869',\n",
              " '38917147',\n",
              " '38967855']"
            ]
          },
          "metadata": {},
          "execution_count": 17
        }
      ]
    },
    {
      "cell_type": "code",
      "source": [
        "# Assemble the query results\n",
        "top_num = 50\n",
        "query_result = {\"query_keywords\": query, \n",
        "                \"ad_ids\": ad_id_rank[:top_num],\n",
        "                \"relevance\": relevance[:top_num]\n",
        "               }\n",
        "print(query_result)"
      ],
      "metadata": {
        "colab": {
          "base_uri": "https://localhost:8080/"
        },
        "id": "wwEgeMhmCgel",
        "outputId": "cdded35f-3a4a-4d8d-bd88-095f211f996b"
      },
      "execution_count": null,
      "outputs": [
        {
          "output_type": "stream",
          "name": "stdout",
          "text": [
            "{'query_keywords': 'IT support', 'ad_ids': ['38930962', '38855294', '38981356', '38854644', '38896974', '38910436', '38973549', '38996869', '38917147', '38967855', '38870117', '38818674', '38964511', '38895262', '38902201', '38993423', '38890245', '38921684', '38932770', '38970801', '38981864', '38908425', '38862501', '38892500', '38915481', '38976112', '38868190', '38903729', '38968664', '38845985', '38945839', '38895558', '38855153', '38941800', '38868935', '38852205', '38940685', '38559932', '38932777', '38930456', '38936827', '38863632', '38951098', '38838768', '38999739', '38849819', '38823545', '38966935', '38913563', '38918574'], 'relevance': [3, 2, 2, 2, 2, 2, 2, 2, 2, 2, 2, 2, 2, 2, 2, 1, 1, 1, 1, 1, 1, 1, 1, 1, 1, 1, 1, 1, 1, 1, 1, 1, 1, 1, 1, 1, 1, 1, 1, 1, 1, 1, 1, 1, 1, 1, 1, 1, 1, 1]}\n"
          ]
        }
      ]
    },
    {
      "cell_type": "code",
      "source": [
        "# Save query results\n",
        "\n",
        "import json\n",
        "\n",
        "#define the path for your json file\n",
        "jf_path = '/content/drive/MyDrive/jobad/qry_rel_{}.json'.format(query)\n",
        "\n",
        "# open your json file and add the dictionary\n",
        "with open (jf_path, 'w') as j:\n",
        "    json.dump(query_result, j)"
      ],
      "metadata": {
        "id": "PlQKfdZtWGB9"
      },
      "execution_count": null,
      "outputs": []
    },
    {
      "cell_type": "markdown",
      "source": [
        "# Model Evaluation"
      ],
      "metadata": {
        "id": "SDBLKPqidLCE"
      }
    },
    {
      "cell_type": "code",
      "source": [
        "# Get groud truth data ( Here we use example data as ground truth)\n",
        "\n",
        "truth_df = pd.read_json('/content/drive/MyDrive/jobad/qry_rel_v1a.json', lines=True)\n",
        "truth_df.head(5)"
      ],
      "metadata": {
        "colab": {
          "base_uri": "https://localhost:8080/",
          "height": 206
        },
        "id": "Btp7rWoPjsHL",
        "outputId": "5c7c6b09-d579-4c98-f5d0-f1a3d3bb8231"
      },
      "execution_count": null,
      "outputs": [
        {
          "output_type": "execute_result",
          "data": {
            "text/plain": [
              "      query_keywords                                             ad_ids  \\\n",
              "0         it support  [38464773, 38589022, 38935904, 38983386, 38898...   \n",
              "1   business analyst  [38893545, 38989157, 38965055, 38967324, 38885...   \n",
              "2    project manager  [38840387, 38964511, 38905282, 38968664, 38863...   \n",
              "3       data analyst  [38841804, 38897808, 38848695, 38966633, 38833...   \n",
              "4  software engineer  [38876123, 38789861, 38966902, 38994718, 38932...   \n",
              "\n",
              "                                           relevance  \n",
              "0  [4, 4, 4, 3, 3, 3, 3, 3, 3, 3, 3, 3, 3, 3, 3, ...  \n",
              "1  [4, 4, 4, 4, 4, 4, 4, 4, 4, 4, 4, 4, 4, 4, 4, ...  \n",
              "2  [4, 4, 4, 4, 4, 3, 3, 3, 3, 3, 3, 3, 3, 3, 3, ...  \n",
              "3  [4, 4, 4, 4, 4, 4, 4, 4, 4, 4, 4, 4, 4, 4, 3, ...  \n",
              "4  [4, 4, 4, 4, 4, 4, 3, 3, 3, 3, 3, 3, 3, 3, 3, ...  "
            ],
            "text/html": [
              "\n",
              "  <div id=\"df-73b5d9e8-ef3f-40fd-828f-a7e8011fe47a\">\n",
              "    <div class=\"colab-df-container\">\n",
              "      <div>\n",
              "<style scoped>\n",
              "    .dataframe tbody tr th:only-of-type {\n",
              "        vertical-align: middle;\n",
              "    }\n",
              "\n",
              "    .dataframe tbody tr th {\n",
              "        vertical-align: top;\n",
              "    }\n",
              "\n",
              "    .dataframe thead th {\n",
              "        text-align: right;\n",
              "    }\n",
              "</style>\n",
              "<table border=\"1\" class=\"dataframe\">\n",
              "  <thead>\n",
              "    <tr style=\"text-align: right;\">\n",
              "      <th></th>\n",
              "      <th>query_keywords</th>\n",
              "      <th>ad_ids</th>\n",
              "      <th>relevance</th>\n",
              "    </tr>\n",
              "  </thead>\n",
              "  <tbody>\n",
              "    <tr>\n",
              "      <th>0</th>\n",
              "      <td>it support</td>\n",
              "      <td>[38464773, 38589022, 38935904, 38983386, 38898...</td>\n",
              "      <td>[4, 4, 4, 3, 3, 3, 3, 3, 3, 3, 3, 3, 3, 3, 3, ...</td>\n",
              "    </tr>\n",
              "    <tr>\n",
              "      <th>1</th>\n",
              "      <td>business analyst</td>\n",
              "      <td>[38893545, 38989157, 38965055, 38967324, 38885...</td>\n",
              "      <td>[4, 4, 4, 4, 4, 4, 4, 4, 4, 4, 4, 4, 4, 4, 4, ...</td>\n",
              "    </tr>\n",
              "    <tr>\n",
              "      <th>2</th>\n",
              "      <td>project manager</td>\n",
              "      <td>[38840387, 38964511, 38905282, 38968664, 38863...</td>\n",
              "      <td>[4, 4, 4, 4, 4, 3, 3, 3, 3, 3, 3, 3, 3, 3, 3, ...</td>\n",
              "    </tr>\n",
              "    <tr>\n",
              "      <th>3</th>\n",
              "      <td>data analyst</td>\n",
              "      <td>[38841804, 38897808, 38848695, 38966633, 38833...</td>\n",
              "      <td>[4, 4, 4, 4, 4, 4, 4, 4, 4, 4, 4, 4, 4, 4, 3, ...</td>\n",
              "    </tr>\n",
              "    <tr>\n",
              "      <th>4</th>\n",
              "      <td>software engineer</td>\n",
              "      <td>[38876123, 38789861, 38966902, 38994718, 38932...</td>\n",
              "      <td>[4, 4, 4, 4, 4, 4, 3, 3, 3, 3, 3, 3, 3, 3, 3, ...</td>\n",
              "    </tr>\n",
              "  </tbody>\n",
              "</table>\n",
              "</div>\n",
              "      <button class=\"colab-df-convert\" onclick=\"convertToInteractive('df-73b5d9e8-ef3f-40fd-828f-a7e8011fe47a')\"\n",
              "              title=\"Convert this dataframe to an interactive table.\"\n",
              "              style=\"display:none;\">\n",
              "        \n",
              "  <svg xmlns=\"http://www.w3.org/2000/svg\" height=\"24px\"viewBox=\"0 0 24 24\"\n",
              "       width=\"24px\">\n",
              "    <path d=\"M0 0h24v24H0V0z\" fill=\"none\"/>\n",
              "    <path d=\"M18.56 5.44l.94 2.06.94-2.06 2.06-.94-2.06-.94-.94-2.06-.94 2.06-2.06.94zm-11 1L8.5 8.5l.94-2.06 2.06-.94-2.06-.94L8.5 2.5l-.94 2.06-2.06.94zm10 10l.94 2.06.94-2.06 2.06-.94-2.06-.94-.94-2.06-.94 2.06-2.06.94z\"/><path d=\"M17.41 7.96l-1.37-1.37c-.4-.4-.92-.59-1.43-.59-.52 0-1.04.2-1.43.59L10.3 9.45l-7.72 7.72c-.78.78-.78 2.05 0 2.83L4 21.41c.39.39.9.59 1.41.59.51 0 1.02-.2 1.41-.59l7.78-7.78 2.81-2.81c.8-.78.8-2.07 0-2.86zM5.41 20L4 18.59l7.72-7.72 1.47 1.35L5.41 20z\"/>\n",
              "  </svg>\n",
              "      </button>\n",
              "      \n",
              "  <style>\n",
              "    .colab-df-container {\n",
              "      display:flex;\n",
              "      flex-wrap:wrap;\n",
              "      gap: 12px;\n",
              "    }\n",
              "\n",
              "    .colab-df-convert {\n",
              "      background-color: #E8F0FE;\n",
              "      border: none;\n",
              "      border-radius: 50%;\n",
              "      cursor: pointer;\n",
              "      display: none;\n",
              "      fill: #1967D2;\n",
              "      height: 32px;\n",
              "      padding: 0 0 0 0;\n",
              "      width: 32px;\n",
              "    }\n",
              "\n",
              "    .colab-df-convert:hover {\n",
              "      background-color: #E2EBFA;\n",
              "      box-shadow: 0px 1px 2px rgba(60, 64, 67, 0.3), 0px 1px 3px 1px rgba(60, 64, 67, 0.15);\n",
              "      fill: #174EA6;\n",
              "    }\n",
              "\n",
              "    [theme=dark] .colab-df-convert {\n",
              "      background-color: #3B4455;\n",
              "      fill: #D2E3FC;\n",
              "    }\n",
              "\n",
              "    [theme=dark] .colab-df-convert:hover {\n",
              "      background-color: #434B5C;\n",
              "      box-shadow: 0px 1px 3px 1px rgba(0, 0, 0, 0.15);\n",
              "      filter: drop-shadow(0px 1px 2px rgba(0, 0, 0, 0.3));\n",
              "      fill: #FFFFFF;\n",
              "    }\n",
              "  </style>\n",
              "\n",
              "      <script>\n",
              "        const buttonEl =\n",
              "          document.querySelector('#df-73b5d9e8-ef3f-40fd-828f-a7e8011fe47a button.colab-df-convert');\n",
              "        buttonEl.style.display =\n",
              "          google.colab.kernel.accessAllowed ? 'block' : 'none';\n",
              "\n",
              "        async function convertToInteractive(key) {\n",
              "          const element = document.querySelector('#df-73b5d9e8-ef3f-40fd-828f-a7e8011fe47a');\n",
              "          const dataTable =\n",
              "            await google.colab.kernel.invokeFunction('convertToInteractive',\n",
              "                                                     [key], {});\n",
              "          if (!dataTable) return;\n",
              "\n",
              "          const docLinkHtml = 'Like what you see? Visit the ' +\n",
              "            '<a target=\"_blank\" href=https://colab.research.google.com/notebooks/data_table.ipynb>data table notebook</a>'\n",
              "            + ' to learn more about interactive tables.';\n",
              "          element.innerHTML = '';\n",
              "          dataTable['output_type'] = 'display_data';\n",
              "          await google.colab.output.renderOutput(dataTable, element);\n",
              "          const docLink = document.createElement('div');\n",
              "          docLink.innerHTML = docLinkHtml;\n",
              "          element.appendChild(docLink);\n",
              "        }\n",
              "      </script>\n",
              "    </div>\n",
              "  </div>\n",
              "  "
            ]
          },
          "metadata": {},
          "execution_count": 20
        }
      ]
    },
    {
      "cell_type": "code",
      "source": [
        "# List job ad id most relevant to query keywords (ground truth)\n",
        "\n",
        "y_true_ad_rank = truth_df[truth_df[\"query_keywords\"]==query.lower()][\"ad_ids\"][0]\n",
        "y_true_ad_rank[:5]"
      ],
      "metadata": {
        "colab": {
          "base_uri": "https://localhost:8080/"
        },
        "id": "XgDy9gYfkK2z",
        "outputId": "4e8d7a49-e946-4d62-9e12-9901684d84a8"
      },
      "execution_count": null,
      "outputs": [
        {
          "output_type": "execute_result",
          "data": {
            "text/plain": [
              "['38464773', '38589022', '38935904', '38983386', '38898601']"
            ]
          },
          "metadata": {},
          "execution_count": 21
        }
      ]
    },
    {
      "cell_type": "code",
      "source": [
        "# List relevance values corresponding to job ad with most relevance\n",
        "\n",
        "y_true_relevance= truth_df[truth_df[\"query_keywords\"]==query.lower()][\"relevance\"][0]\n",
        "y_true_relevance[:5]"
      ],
      "metadata": {
        "colab": {
          "base_uri": "https://localhost:8080/"
        },
        "id": "vlE1XWPfmHYR",
        "outputId": "22cec673-9c82-42e4-e941-e1b6ad8c7285"
      },
      "execution_count": null,
      "outputs": [
        {
          "output_type": "execute_result",
          "data": {
            "text/plain": [
              "[4, 4, 4, 3, 3]"
            ]
          },
          "metadata": {},
          "execution_count": 22
        }
      ]
    },
    {
      "cell_type": "code",
      "source": [
        "# Prepare the information of the predicted job ad most relevant to query keywords\n",
        "\n",
        "df_with_pred_score= df.iloc[rank][[\"ad_id\", \"title\"]]\n",
        "df_with_pred_score[\"rank\"]=rank\n",
        "df_with_pred_score[\"relevance\"]=relevance\n",
        "\n",
        "df_with_pred_score.head(5)"
      ],
      "metadata": {
        "colab": {
          "base_uri": "https://localhost:8080/",
          "height": 206
        },
        "id": "FiMv4gkjmngX",
        "outputId": "539e1038-c0b2-4a8c-da7c-f8f816fe5389"
      },
      "execution_count": null,
      "outputs": [
        {
          "output_type": "execute_result",
          "data": {
            "text/plain": [
              "         ad_id                                              title  rank  \\\n",
              "4058  38930962  Recruitment Consultant - Information Technolog...  4058   \n",
              "1626  38855294              Java Developer / Full Stack Developer  1626   \n",
              "3635  38981356  Analyst/Senior Analyst Engineers(Security & De...  3635   \n",
              "3540  38854644                                    DevOps Engineer  3540   \n",
              "4891  38896974                             Linux Systems Engineer  4891   \n",
              "\n",
              "      relevance  \n",
              "4058          3  \n",
              "1626          2  \n",
              "3635          2  \n",
              "3540          2  \n",
              "4891          2  "
            ],
            "text/html": [
              "\n",
              "  <div id=\"df-c6b4e0da-3ac3-4b43-b6ec-0051e114044a\">\n",
              "    <div class=\"colab-df-container\">\n",
              "      <div>\n",
              "<style scoped>\n",
              "    .dataframe tbody tr th:only-of-type {\n",
              "        vertical-align: middle;\n",
              "    }\n",
              "\n",
              "    .dataframe tbody tr th {\n",
              "        vertical-align: top;\n",
              "    }\n",
              "\n",
              "    .dataframe thead th {\n",
              "        text-align: right;\n",
              "    }\n",
              "</style>\n",
              "<table border=\"1\" class=\"dataframe\">\n",
              "  <thead>\n",
              "    <tr style=\"text-align: right;\">\n",
              "      <th></th>\n",
              "      <th>ad_id</th>\n",
              "      <th>title</th>\n",
              "      <th>rank</th>\n",
              "      <th>relevance</th>\n",
              "    </tr>\n",
              "  </thead>\n",
              "  <tbody>\n",
              "    <tr>\n",
              "      <th>4058</th>\n",
              "      <td>38930962</td>\n",
              "      <td>Recruitment Consultant - Information Technolog...</td>\n",
              "      <td>4058</td>\n",
              "      <td>3</td>\n",
              "    </tr>\n",
              "    <tr>\n",
              "      <th>1626</th>\n",
              "      <td>38855294</td>\n",
              "      <td>Java Developer / Full Stack Developer</td>\n",
              "      <td>1626</td>\n",
              "      <td>2</td>\n",
              "    </tr>\n",
              "    <tr>\n",
              "      <th>3635</th>\n",
              "      <td>38981356</td>\n",
              "      <td>Analyst/Senior Analyst Engineers(Security &amp; De...</td>\n",
              "      <td>3635</td>\n",
              "      <td>2</td>\n",
              "    </tr>\n",
              "    <tr>\n",
              "      <th>3540</th>\n",
              "      <td>38854644</td>\n",
              "      <td>DevOps Engineer</td>\n",
              "      <td>3540</td>\n",
              "      <td>2</td>\n",
              "    </tr>\n",
              "    <tr>\n",
              "      <th>4891</th>\n",
              "      <td>38896974</td>\n",
              "      <td>Linux Systems Engineer</td>\n",
              "      <td>4891</td>\n",
              "      <td>2</td>\n",
              "    </tr>\n",
              "  </tbody>\n",
              "</table>\n",
              "</div>\n",
              "      <button class=\"colab-df-convert\" onclick=\"convertToInteractive('df-c6b4e0da-3ac3-4b43-b6ec-0051e114044a')\"\n",
              "              title=\"Convert this dataframe to an interactive table.\"\n",
              "              style=\"display:none;\">\n",
              "        \n",
              "  <svg xmlns=\"http://www.w3.org/2000/svg\" height=\"24px\"viewBox=\"0 0 24 24\"\n",
              "       width=\"24px\">\n",
              "    <path d=\"M0 0h24v24H0V0z\" fill=\"none\"/>\n",
              "    <path d=\"M18.56 5.44l.94 2.06.94-2.06 2.06-.94-2.06-.94-.94-2.06-.94 2.06-2.06.94zm-11 1L8.5 8.5l.94-2.06 2.06-.94-2.06-.94L8.5 2.5l-.94 2.06-2.06.94zm10 10l.94 2.06.94-2.06 2.06-.94-2.06-.94-.94-2.06-.94 2.06-2.06.94z\"/><path d=\"M17.41 7.96l-1.37-1.37c-.4-.4-.92-.59-1.43-.59-.52 0-1.04.2-1.43.59L10.3 9.45l-7.72 7.72c-.78.78-.78 2.05 0 2.83L4 21.41c.39.39.9.59 1.41.59.51 0 1.02-.2 1.41-.59l7.78-7.78 2.81-2.81c.8-.78.8-2.07 0-2.86zM5.41 20L4 18.59l7.72-7.72 1.47 1.35L5.41 20z\"/>\n",
              "  </svg>\n",
              "      </button>\n",
              "      \n",
              "  <style>\n",
              "    .colab-df-container {\n",
              "      display:flex;\n",
              "      flex-wrap:wrap;\n",
              "      gap: 12px;\n",
              "    }\n",
              "\n",
              "    .colab-df-convert {\n",
              "      background-color: #E8F0FE;\n",
              "      border: none;\n",
              "      border-radius: 50%;\n",
              "      cursor: pointer;\n",
              "      display: none;\n",
              "      fill: #1967D2;\n",
              "      height: 32px;\n",
              "      padding: 0 0 0 0;\n",
              "      width: 32px;\n",
              "    }\n",
              "\n",
              "    .colab-df-convert:hover {\n",
              "      background-color: #E2EBFA;\n",
              "      box-shadow: 0px 1px 2px rgba(60, 64, 67, 0.3), 0px 1px 3px 1px rgba(60, 64, 67, 0.15);\n",
              "      fill: #174EA6;\n",
              "    }\n",
              "\n",
              "    [theme=dark] .colab-df-convert {\n",
              "      background-color: #3B4455;\n",
              "      fill: #D2E3FC;\n",
              "    }\n",
              "\n",
              "    [theme=dark] .colab-df-convert:hover {\n",
              "      background-color: #434B5C;\n",
              "      box-shadow: 0px 1px 3px 1px rgba(0, 0, 0, 0.15);\n",
              "      filter: drop-shadow(0px 1px 2px rgba(0, 0, 0, 0.3));\n",
              "      fill: #FFFFFF;\n",
              "    }\n",
              "  </style>\n",
              "\n",
              "      <script>\n",
              "        const buttonEl =\n",
              "          document.querySelector('#df-c6b4e0da-3ac3-4b43-b6ec-0051e114044a button.colab-df-convert');\n",
              "        buttonEl.style.display =\n",
              "          google.colab.kernel.accessAllowed ? 'block' : 'none';\n",
              "\n",
              "        async function convertToInteractive(key) {\n",
              "          const element = document.querySelector('#df-c6b4e0da-3ac3-4b43-b6ec-0051e114044a');\n",
              "          const dataTable =\n",
              "            await google.colab.kernel.invokeFunction('convertToInteractive',\n",
              "                                                     [key], {});\n",
              "          if (!dataTable) return;\n",
              "\n",
              "          const docLinkHtml = 'Like what you see? Visit the ' +\n",
              "            '<a target=\"_blank\" href=https://colab.research.google.com/notebooks/data_table.ipynb>data table notebook</a>'\n",
              "            + ' to learn more about interactive tables.';\n",
              "          element.innerHTML = '';\n",
              "          dataTable['output_type'] = 'display_data';\n",
              "          await google.colab.output.renderOutput(dataTable, element);\n",
              "          const docLink = document.createElement('div');\n",
              "          docLink.innerHTML = docLinkHtml;\n",
              "          element.appendChild(docLink);\n",
              "        }\n",
              "      </script>\n",
              "    </div>\n",
              "  </div>\n",
              "  "
            ]
          },
          "metadata": {},
          "execution_count": 23
        }
      ]
    },
    {
      "cell_type": "code",
      "source": [
        "# Get the predicted relevance value based on ground-truth job ad rank\n",
        "\n",
        "y_pred_relevance= [df_with_pred_score[df_with_pred_score[\"ad_id\"]==int(x)][\"relevance\"].tolist()[0] for x in y_true_ad_rank]\n",
        "y_pred_relevance[:20]"
      ],
      "metadata": {
        "colab": {
          "base_uri": "https://localhost:8080/"
        },
        "id": "ChW7x4RBrq7R",
        "outputId": "ef4d672d-0be2-41f0-9023-23c166ae8135"
      },
      "execution_count": null,
      "outputs": [
        {
          "output_type": "execute_result",
          "data": {
            "text/plain": [
              "[0, 0, 0, 0, 0, 0, 0, 0, 0, 0, 0, 1, 0, 0, 0, 0, 0, 0, 0, 0]"
            ]
          },
          "metadata": {},
          "execution_count": 30
        }
      ]
    },
    {
      "cell_type": "code",
      "source": [
        "# Calculate model evaluation based on relevance similarity\n",
        "\n",
        "from sklearn.metrics.pairwise import cosine_similarity\n",
        "from numpy.linalg import norm\n",
        "import numpy as np\n",
        "\n",
        "y_true=np.array(y_true_relevance)\n",
        "y_pred=np.array(y_pred_relevance)\n",
        "cosine = np.dot(y_true,y_pred)/(norm(y_true)*norm(y_pred))\n",
        "print(f'The cosine similarity with truth data is: {cosine:.4f}')"
      ],
      "metadata": {
        "colab": {
          "base_uri": "https://localhost:8080/"
        },
        "id": "sZyiZv5btb7A",
        "outputId": "6cf6ef7e-4c87-411f-b012-629b821da609"
      },
      "execution_count": null,
      "outputs": [
        {
          "output_type": "stream",
          "name": "stdout",
          "text": [
            "The cosine similarity with truth data is: 0.2352\n"
          ]
        }
      ]
    },
    {
      "cell_type": "code",
      "source": [
        "# from sklearn.metrics import ndcg_score\n",
        "# import numpy as np\n",
        "\n",
        "# ndcg_score(y_true, y_pred)"
      ],
      "metadata": {
        "id": "vj-N_yapmVjM"
      },
      "execution_count": null,
      "outputs": []
    }
  ]
}